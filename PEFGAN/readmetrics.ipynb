{
 "cells": [
  {
   "cell_type": "code",
   "execution_count": 3,
   "id": "af614c30",
   "metadata": {},
   "outputs": [],
   "source": [
    "import os\n",
    "import random\n",
    "from datetime import date, timedelta\n",
    "import xarray as xr\n",
    "from netCDF4 import Dataset, num2date, date2num\n",
    "import torch\n",
    "import torch.nn as nn\n",
    "\n",
    "import time\n",
    "import numpy as np\n",
    "import xarray as xr\n",
    "import cv2"
   ]
  },
  {
   "cell_type": "code",
   "execution_count": 10,
   "id": "2a9579ba",
   "metadata": {},
   "outputs": [],
   "source": [
    "A = np.load(\"/scratch/iu60/yl3101/DESRGAN/new_crps/save/bias/vfixed0.001crps/2009/model_G_i000001/lead_time0_whole.npy\")"
   ]
  },
  {
   "cell_type": "code",
   "execution_count": 11,
   "id": "711cf150",
   "metadata": {},
   "outputs": [],
   "source": [
    "b = np.load(\"/scratch/iu60/yl3101/DESRGAN/new_crps/save/bias/vfixed0.001crps/2009/model_G_i000001/lead_time1_whole.npy\")"
   ]
  },
  {
   "cell_type": "code",
   "execution_count": 12,
   "id": "dab51e74",
   "metadata": {},
   "outputs": [
    {
     "name": "stderr",
     "output_type": "stream",
     "text": [
      "/scratch/zv2/yl3101/tmp/ipykernel_1749465/408177834.py:1: RuntimeWarning: invalid value encountered in true_divide\n",
      "  A / b\n"
     ]
    },
    {
     "data": {
      "text/plain": [
       "array([[0.98614806, 0.99210554, 0.99085814, ...,        nan, 0.99999994,\n",
       "        1.        ],\n",
       "       [0.99562186, 0.98203826, 0.9721408 , ..., 1.        , 1.        ,\n",
       "        1.0000005 ],\n",
       "       [0.694243  , 0.9819968 , 0.96524715, ..., 0.9999998 , 1.        ,\n",
       "        0.9999998 ],\n",
       "       ...,\n",
       "       [1.5951294 , 2.086515  , 1.5324438 , ..., 0.99999994, 0.9999998 ,\n",
       "        1.0000001 ],\n",
       "       [1.5753448 , 2.353936  , 1.5321456 , ..., 1.0000004 , 1.0000002 ,\n",
       "        0.99999994],\n",
       "       [1.57879   , 1.9406282 , 1.5175925 , ..., 1.        ,        nan,\n",
       "               nan]], dtype=float32)"
      ]
     },
     "execution_count": 12,
     "metadata": {},
     "output_type": "execute_result"
    }
   ],
   "source": [
    "A / b"
   ]
  },
  {
   "cell_type": "code",
   "execution_count": 8,
   "id": "4916f2ed",
   "metadata": {},
   "outputs": [],
   "source": [
    "filepath = \"/scratch/iu60/yl3101/AGCD_mask_data/\"\n",
    "data1= xr.open_dataset(filepath + \"1998-01-12.nc\")\n",
    "data2= xr.open_dataset(filepath + \"1998-01-01.nc\")\n",
    "A = []\n",
    "A.append(data1.isel(time=0)['precip'].values)\n",
    "A.append(data2.isel(time=0)['precip'].values)"
   ]
  },
  {
   "cell_type": "code",
   "execution_count": 20,
   "id": "9b3c57ba",
   "metadata": {},
   "outputs": [
    {
     "data": {
      "text/html": [
       "<div><svg style=\"position: absolute; width: 0; height: 0; overflow: hidden\">\n",
       "<defs>\n",
       "<symbol id=\"icon-database\" viewBox=\"0 0 32 32\">\n",
       "<path d=\"M16 0c-8.837 0-16 2.239-16 5v4c0 2.761 7.163 5 16 5s16-2.239 16-5v-4c0-2.761-7.163-5-16-5z\"></path>\n",
       "<path d=\"M16 17c-8.837 0-16-2.239-16-5v6c0 2.761 7.163 5 16 5s16-2.239 16-5v-6c0 2.761-7.163 5-16 5z\"></path>\n",
       "<path d=\"M16 26c-8.837 0-16-2.239-16-5v6c0 2.761 7.163 5 16 5s16-2.239 16-5v-6c0 2.761-7.163 5-16 5z\"></path>\n",
       "</symbol>\n",
       "<symbol id=\"icon-file-text2\" viewBox=\"0 0 32 32\">\n",
       "<path d=\"M28.681 7.159c-0.694-0.947-1.662-2.053-2.724-3.116s-2.169-2.030-3.116-2.724c-1.612-1.182-2.393-1.319-2.841-1.319h-15.5c-1.378 0-2.5 1.121-2.5 2.5v27c0 1.378 1.122 2.5 2.5 2.5h23c1.378 0 2.5-1.122 2.5-2.5v-19.5c0-0.448-0.137-1.23-1.319-2.841zM24.543 5.457c0.959 0.959 1.712 1.825 2.268 2.543h-4.811v-4.811c0.718 0.556 1.584 1.309 2.543 2.268zM28 29.5c0 0.271-0.229 0.5-0.5 0.5h-23c-0.271 0-0.5-0.229-0.5-0.5v-27c0-0.271 0.229-0.5 0.5-0.5 0 0 15.499-0 15.5 0v7c0 0.552 0.448 1 1 1h7v19.5z\"></path>\n",
       "<path d=\"M23 26h-14c-0.552 0-1-0.448-1-1s0.448-1 1-1h14c0.552 0 1 0.448 1 1s-0.448 1-1 1z\"></path>\n",
       "<path d=\"M23 22h-14c-0.552 0-1-0.448-1-1s0.448-1 1-1h14c0.552 0 1 0.448 1 1s-0.448 1-1 1z\"></path>\n",
       "<path d=\"M23 18h-14c-0.552 0-1-0.448-1-1s0.448-1 1-1h14c0.552 0 1 0.448 1 1s-0.448 1-1 1z\"></path>\n",
       "</symbol>\n",
       "</defs>\n",
       "</svg>\n",
       "<style>/* CSS stylesheet for displaying xarray objects in jupyterlab.\n",
       " *\n",
       " */\n",
       "\n",
       ":root {\n",
       "  --xr-font-color0: var(--jp-content-font-color0, rgba(0, 0, 0, 1));\n",
       "  --xr-font-color2: var(--jp-content-font-color2, rgba(0, 0, 0, 0.54));\n",
       "  --xr-font-color3: var(--jp-content-font-color3, rgba(0, 0, 0, 0.38));\n",
       "  --xr-border-color: var(--jp-border-color2, #e0e0e0);\n",
       "  --xr-disabled-color: var(--jp-layout-color3, #bdbdbd);\n",
       "  --xr-background-color: var(--jp-layout-color0, white);\n",
       "  --xr-background-color-row-even: var(--jp-layout-color1, white);\n",
       "  --xr-background-color-row-odd: var(--jp-layout-color2, #eeeeee);\n",
       "}\n",
       "\n",
       "html[theme=dark],\n",
       "body.vscode-dark {\n",
       "  --xr-font-color0: rgba(255, 255, 255, 1);\n",
       "  --xr-font-color2: rgba(255, 255, 255, 0.54);\n",
       "  --xr-font-color3: rgba(255, 255, 255, 0.38);\n",
       "  --xr-border-color: #1F1F1F;\n",
       "  --xr-disabled-color: #515151;\n",
       "  --xr-background-color: #111111;\n",
       "  --xr-background-color-row-even: #111111;\n",
       "  --xr-background-color-row-odd: #313131;\n",
       "}\n",
       "\n",
       ".xr-wrap {\n",
       "  display: block !important;\n",
       "  min-width: 300px;\n",
       "  max-width: 700px;\n",
       "}\n",
       "\n",
       ".xr-text-repr-fallback {\n",
       "  /* fallback to plain text repr when CSS is not injected (untrusted notebook) */\n",
       "  display: none;\n",
       "}\n",
       "\n",
       ".xr-header {\n",
       "  padding-top: 6px;\n",
       "  padding-bottom: 6px;\n",
       "  margin-bottom: 4px;\n",
       "  border-bottom: solid 1px var(--xr-border-color);\n",
       "}\n",
       "\n",
       ".xr-header > div,\n",
       ".xr-header > ul {\n",
       "  display: inline;\n",
       "  margin-top: 0;\n",
       "  margin-bottom: 0;\n",
       "}\n",
       "\n",
       ".xr-obj-type,\n",
       ".xr-array-name {\n",
       "  margin-left: 2px;\n",
       "  margin-right: 10px;\n",
       "}\n",
       "\n",
       ".xr-obj-type {\n",
       "  color: var(--xr-font-color2);\n",
       "}\n",
       "\n",
       ".xr-sections {\n",
       "  padding-left: 0 !important;\n",
       "  display: grid;\n",
       "  grid-template-columns: 150px auto auto 1fr 20px 20px;\n",
       "}\n",
       "\n",
       ".xr-section-item {\n",
       "  display: contents;\n",
       "}\n",
       "\n",
       ".xr-section-item input {\n",
       "  display: none;\n",
       "}\n",
       "\n",
       ".xr-section-item input + label {\n",
       "  color: var(--xr-disabled-color);\n",
       "}\n",
       "\n",
       ".xr-section-item input:enabled + label {\n",
       "  cursor: pointer;\n",
       "  color: var(--xr-font-color2);\n",
       "}\n",
       "\n",
       ".xr-section-item input:enabled + label:hover {\n",
       "  color: var(--xr-font-color0);\n",
       "}\n",
       "\n",
       ".xr-section-summary {\n",
       "  grid-column: 1;\n",
       "  color: var(--xr-font-color2);\n",
       "  font-weight: 500;\n",
       "}\n",
       "\n",
       ".xr-section-summary > span {\n",
       "  display: inline-block;\n",
       "  padding-left: 0.5em;\n",
       "}\n",
       "\n",
       ".xr-section-summary-in:disabled + label {\n",
       "  color: var(--xr-font-color2);\n",
       "}\n",
       "\n",
       ".xr-section-summary-in + label:before {\n",
       "  display: inline-block;\n",
       "  content: '►';\n",
       "  font-size: 11px;\n",
       "  width: 15px;\n",
       "  text-align: center;\n",
       "}\n",
       "\n",
       ".xr-section-summary-in:disabled + label:before {\n",
       "  color: var(--xr-disabled-color);\n",
       "}\n",
       "\n",
       ".xr-section-summary-in:checked + label:before {\n",
       "  content: '▼';\n",
       "}\n",
       "\n",
       ".xr-section-summary-in:checked + label > span {\n",
       "  display: none;\n",
       "}\n",
       "\n",
       ".xr-section-summary,\n",
       ".xr-section-inline-details {\n",
       "  padding-top: 4px;\n",
       "  padding-bottom: 4px;\n",
       "}\n",
       "\n",
       ".xr-section-inline-details {\n",
       "  grid-column: 2 / -1;\n",
       "}\n",
       "\n",
       ".xr-section-details {\n",
       "  display: none;\n",
       "  grid-column: 1 / -1;\n",
       "  margin-bottom: 5px;\n",
       "}\n",
       "\n",
       ".xr-section-summary-in:checked ~ .xr-section-details {\n",
       "  display: contents;\n",
       "}\n",
       "\n",
       ".xr-array-wrap {\n",
       "  grid-column: 1 / -1;\n",
       "  display: grid;\n",
       "  grid-template-columns: 20px auto;\n",
       "}\n",
       "\n",
       ".xr-array-wrap > label {\n",
       "  grid-column: 1;\n",
       "  vertical-align: top;\n",
       "}\n",
       "\n",
       ".xr-preview {\n",
       "  color: var(--xr-font-color3);\n",
       "}\n",
       "\n",
       ".xr-array-preview,\n",
       ".xr-array-data {\n",
       "  padding: 0 5px !important;\n",
       "  grid-column: 2;\n",
       "}\n",
       "\n",
       ".xr-array-data,\n",
       ".xr-array-in:checked ~ .xr-array-preview {\n",
       "  display: none;\n",
       "}\n",
       "\n",
       ".xr-array-in:checked ~ .xr-array-data,\n",
       ".xr-array-preview {\n",
       "  display: inline-block;\n",
       "}\n",
       "\n",
       ".xr-dim-list {\n",
       "  display: inline-block !important;\n",
       "  list-style: none;\n",
       "  padding: 0 !important;\n",
       "  margin: 0;\n",
       "}\n",
       "\n",
       ".xr-dim-list li {\n",
       "  display: inline-block;\n",
       "  padding: 0;\n",
       "  margin: 0;\n",
       "}\n",
       "\n",
       ".xr-dim-list:before {\n",
       "  content: '(';\n",
       "}\n",
       "\n",
       ".xr-dim-list:after {\n",
       "  content: ')';\n",
       "}\n",
       "\n",
       ".xr-dim-list li:not(:last-child):after {\n",
       "  content: ',';\n",
       "  padding-right: 5px;\n",
       "}\n",
       "\n",
       ".xr-has-index {\n",
       "  font-weight: bold;\n",
       "}\n",
       "\n",
       ".xr-var-list,\n",
       ".xr-var-item {\n",
       "  display: contents;\n",
       "}\n",
       "\n",
       ".xr-var-item > div,\n",
       ".xr-var-item label,\n",
       ".xr-var-item > .xr-var-name span {\n",
       "  background-color: var(--xr-background-color-row-even);\n",
       "  margin-bottom: 0;\n",
       "}\n",
       "\n",
       ".xr-var-item > .xr-var-name:hover span {\n",
       "  padding-right: 5px;\n",
       "}\n",
       "\n",
       ".xr-var-list > li:nth-child(odd) > div,\n",
       ".xr-var-list > li:nth-child(odd) > label,\n",
       ".xr-var-list > li:nth-child(odd) > .xr-var-name span {\n",
       "  background-color: var(--xr-background-color-row-odd);\n",
       "}\n",
       "\n",
       ".xr-var-name {\n",
       "  grid-column: 1;\n",
       "}\n",
       "\n",
       ".xr-var-dims {\n",
       "  grid-column: 2;\n",
       "}\n",
       "\n",
       ".xr-var-dtype {\n",
       "  grid-column: 3;\n",
       "  text-align: right;\n",
       "  color: var(--xr-font-color2);\n",
       "}\n",
       "\n",
       ".xr-var-preview {\n",
       "  grid-column: 4;\n",
       "}\n",
       "\n",
       ".xr-var-name,\n",
       ".xr-var-dims,\n",
       ".xr-var-dtype,\n",
       ".xr-preview,\n",
       ".xr-attrs dt {\n",
       "  white-space: nowrap;\n",
       "  overflow: hidden;\n",
       "  text-overflow: ellipsis;\n",
       "  padding-right: 10px;\n",
       "}\n",
       "\n",
       ".xr-var-name:hover,\n",
       ".xr-var-dims:hover,\n",
       ".xr-var-dtype:hover,\n",
       ".xr-attrs dt:hover {\n",
       "  overflow: visible;\n",
       "  width: auto;\n",
       "  z-index: 1;\n",
       "}\n",
       "\n",
       ".xr-var-attrs,\n",
       ".xr-var-data {\n",
       "  display: none;\n",
       "  background-color: var(--xr-background-color) !important;\n",
       "  padding-bottom: 5px !important;\n",
       "}\n",
       "\n",
       ".xr-var-attrs-in:checked ~ .xr-var-attrs,\n",
       ".xr-var-data-in:checked ~ .xr-var-data {\n",
       "  display: block;\n",
       "}\n",
       "\n",
       ".xr-var-data > table {\n",
       "  float: right;\n",
       "}\n",
       "\n",
       ".xr-var-name span,\n",
       ".xr-var-data,\n",
       ".xr-attrs {\n",
       "  padding-left: 25px !important;\n",
       "}\n",
       "\n",
       ".xr-attrs,\n",
       ".xr-var-attrs,\n",
       ".xr-var-data {\n",
       "  grid-column: 1 / -1;\n",
       "}\n",
       "\n",
       "dl.xr-attrs {\n",
       "  padding: 0;\n",
       "  margin: 0;\n",
       "  display: grid;\n",
       "  grid-template-columns: 125px auto;\n",
       "}\n",
       "\n",
       ".xr-attrs dt,\n",
       ".xr-attrs dd {\n",
       "  padding: 0;\n",
       "  margin: 0;\n",
       "  float: left;\n",
       "  padding-right: 10px;\n",
       "  width: auto;\n",
       "}\n",
       "\n",
       ".xr-attrs dt {\n",
       "  font-weight: normal;\n",
       "  grid-column: 1;\n",
       "}\n",
       "\n",
       ".xr-attrs dt:hover span {\n",
       "  display: inline-block;\n",
       "  background: var(--xr-background-color);\n",
       "  padding-right: 10px;\n",
       "}\n",
       "\n",
       ".xr-attrs dd {\n",
       "  grid-column: 2;\n",
       "  white-space: pre-wrap;\n",
       "  word-break: break-all;\n",
       "}\n",
       "\n",
       ".xr-icon-database,\n",
       ".xr-icon-file-text2 {\n",
       "  display: inline-block;\n",
       "  vertical-align: middle;\n",
       "  width: 1em;\n",
       "  height: 1.5em !important;\n",
       "  stroke-width: 0;\n",
       "  stroke: currentColor;\n",
       "  fill: currentColor;\n",
       "}\n",
       "</style><pre class='xr-text-repr-fallback'>&lt;xarray.Dataset&gt;\n",
       "Dimensions:  (lat: 413, lon: 267, time: 1)\n",
       "Coordinates:\n",
       "  * lat      (lat) float32 -39.2 -39.15 -39.1 -39.05 ... -18.7 -18.65 -18.6\n",
       "  * lon      (lon) float32 140.6 140.7 140.7 140.8 ... 153.8 153.8 153.8 153.9\n",
       "  * time     (time) datetime64[ns] 1998-01-12T09:00:00\n",
       "Data variables:\n",
       "    precip   (time, lat, lon) float32 ...</pre><div class='xr-wrap' style='display:none'><div class='xr-header'><div class='xr-obj-type'>xarray.Dataset</div></div><ul class='xr-sections'><li class='xr-section-item'><input id='section-e3c417b6-241b-4de5-9260-516e5d948fe2' class='xr-section-summary-in' type='checkbox' disabled ><label for='section-e3c417b6-241b-4de5-9260-516e5d948fe2' class='xr-section-summary'  title='Expand/collapse section'>Dimensions:</label><div class='xr-section-inline-details'><ul class='xr-dim-list'><li><span class='xr-has-index'>lat</span>: 413</li><li><span class='xr-has-index'>lon</span>: 267</li><li><span class='xr-has-index'>time</span>: 1</li></ul></div><div class='xr-section-details'></div></li><li class='xr-section-item'><input id='section-7a065088-2e86-429f-ab21-c1fb67a788b9' class='xr-section-summary-in' type='checkbox'  checked><label for='section-7a065088-2e86-429f-ab21-c1fb67a788b9' class='xr-section-summary' >Coordinates: <span>(3)</span></label><div class='xr-section-inline-details'></div><div class='xr-section-details'><ul class='xr-var-list'><li class='xr-var-item'><div class='xr-var-name'><span class='xr-has-index'>lat</span></div><div class='xr-var-dims'>(lat)</div><div class='xr-var-dtype'>float32</div><div class='xr-var-preview xr-preview'>-39.2 -39.15 -39.1 ... -18.65 -18.6</div><input id='attrs-776cd86a-4dc7-4704-9880-3ce59c8e21a2' class='xr-var-attrs-in' type='checkbox' disabled><label for='attrs-776cd86a-4dc7-4704-9880-3ce59c8e21a2' title='Show/Hide attributes'><svg class='icon xr-icon-file-text2'><use xlink:href='#icon-file-text2'></use></svg></label><input id='data-d780a795-00e8-41ee-9978-adcd47fef029' class='xr-var-data-in' type='checkbox'><label for='data-d780a795-00e8-41ee-9978-adcd47fef029' title='Show/Hide data repr'><svg class='icon xr-icon-database'><use xlink:href='#icon-database'></use></svg></label><div class='xr-var-attrs'><dl class='xr-attrs'></dl></div><div class='xr-var-data'><pre>array([-39.2     , -39.15    , -39.100002, ..., -18.7     , -18.65    ,\n",
       "       -18.6     ], dtype=float32)</pre></div></li><li class='xr-var-item'><div class='xr-var-name'><span class='xr-has-index'>lon</span></div><div class='xr-var-dims'>(lon)</div><div class='xr-var-dtype'>float32</div><div class='xr-var-preview xr-preview'>140.6 140.7 140.7 ... 153.8 153.9</div><input id='attrs-240f4ac6-29bc-45d4-85c8-11861428a54d' class='xr-var-attrs-in' type='checkbox' disabled><label for='attrs-240f4ac6-29bc-45d4-85c8-11861428a54d' title='Show/Hide attributes'><svg class='icon xr-icon-file-text2'><use xlink:href='#icon-file-text2'></use></svg></label><input id='data-5ebc5e99-371f-4209-934b-fd47daf982cd' class='xr-var-data-in' type='checkbox'><label for='data-5ebc5e99-371f-4209-934b-fd47daf982cd' title='Show/Hide data repr'><svg class='icon xr-icon-database'><use xlink:href='#icon-database'></use></svg></label><div class='xr-var-attrs'><dl class='xr-attrs'></dl></div><div class='xr-var-data'><pre>array([140.6    , 140.65001, 140.70001, ..., 153.79999, 153.84999, 153.9    ],\n",
       "      dtype=float32)</pre></div></li><li class='xr-var-item'><div class='xr-var-name'><span class='xr-has-index'>time</span></div><div class='xr-var-dims'>(time)</div><div class='xr-var-dtype'>datetime64[ns]</div><div class='xr-var-preview xr-preview'>1998-01-12T09:00:00</div><input id='attrs-72edb211-2c1c-4b72-af5b-7dac79acb711' class='xr-var-attrs-in' type='checkbox' disabled><label for='attrs-72edb211-2c1c-4b72-af5b-7dac79acb711' title='Show/Hide attributes'><svg class='icon xr-icon-file-text2'><use xlink:href='#icon-file-text2'></use></svg></label><input id='data-00e0e159-4021-4d09-a1cc-27d6d5ae8022' class='xr-var-data-in' type='checkbox'><label for='data-00e0e159-4021-4d09-a1cc-27d6d5ae8022' title='Show/Hide data repr'><svg class='icon xr-icon-database'><use xlink:href='#icon-database'></use></svg></label><div class='xr-var-attrs'><dl class='xr-attrs'></dl></div><div class='xr-var-data'><pre>array([&#x27;1998-01-12T09:00:00.000000000&#x27;], dtype=&#x27;datetime64[ns]&#x27;)</pre></div></li></ul></div></li><li class='xr-section-item'><input id='section-57646fb6-dedc-4911-8295-936a5db49e81' class='xr-section-summary-in' type='checkbox'  checked><label for='section-57646fb6-dedc-4911-8295-936a5db49e81' class='xr-section-summary' >Data variables: <span>(1)</span></label><div class='xr-section-inline-details'></div><div class='xr-section-details'><ul class='xr-var-list'><li class='xr-var-item'><div class='xr-var-name'><span>precip</span></div><div class='xr-var-dims'>(time, lat, lon)</div><div class='xr-var-dtype'>float32</div><div class='xr-var-preview xr-preview'>...</div><input id='attrs-41359730-f2ef-4ee9-bcfd-ea191b254ddd' class='xr-var-attrs-in' type='checkbox' disabled><label for='attrs-41359730-f2ef-4ee9-bcfd-ea191b254ddd' title='Show/Hide attributes'><svg class='icon xr-icon-file-text2'><use xlink:href='#icon-file-text2'></use></svg></label><input id='data-3289c286-4740-4359-839b-678506a9ba47' class='xr-var-data-in' type='checkbox'><label for='data-3289c286-4740-4359-839b-678506a9ba47' title='Show/Hide data repr'><svg class='icon xr-icon-database'><use xlink:href='#icon-database'></use></svg></label><div class='xr-var-attrs'><dl class='xr-attrs'></dl></div><div class='xr-var-data'><pre>[110271 values with dtype=float32]</pre></div></li></ul></div></li><li class='xr-section-item'><input id='section-f899b54d-40b5-4788-bfe0-816d818e2e4a' class='xr-section-summary-in' type='checkbox' disabled ><label for='section-f899b54d-40b5-4788-bfe0-816d818e2e4a' class='xr-section-summary'  title='Expand/collapse section'>Attributes: <span>(0)</span></label><div class='xr-section-inline-details'></div><div class='xr-section-details'><dl class='xr-attrs'></dl></div></li></ul></div></div>"
      ],
      "text/plain": [
       "<xarray.Dataset>\n",
       "Dimensions:  (lat: 413, lon: 267, time: 1)\n",
       "Coordinates:\n",
       "  * lat      (lat) float32 -39.2 -39.15 -39.1 -39.05 ... -18.7 -18.65 -18.6\n",
       "  * lon      (lon) float32 140.6 140.7 140.7 140.8 ... 153.8 153.8 153.8 153.9\n",
       "  * time     (time) datetime64[ns] 1998-01-12T09:00:00\n",
       "Data variables:\n",
       "    precip   (time, lat, lon) float32 ..."
      ]
     },
     "execution_count": 20,
     "metadata": {},
     "output_type": "execute_result"
    }
   ],
   "source": [
    "data1"
   ]
  },
  {
   "cell_type": "code",
   "execution_count": 13,
   "id": "7b794e9c",
   "metadata": {},
   "outputs": [],
   "source": [
    "A = np.array(A)\n",
    "B = np.percentile(A, 90, axis = 0)"
   ]
  },
  {
   "cell_type": "code",
   "execution_count": 14,
   "id": "902376a6",
   "metadata": {},
   "outputs": [
    {
     "data": {
      "text/plain": [
       "array([[[      nan,       nan,       nan, ...,       nan,       nan,\n",
       "               nan],\n",
       "        [      nan,       nan,       nan, ...,       nan,       nan,\n",
       "               nan],\n",
       "        [      nan,       nan,       nan, ...,       nan,       nan,\n",
       "               nan],\n",
       "        ...,\n",
       "        [0.       , 0.       , 0.       , ...,       nan,       nan,\n",
       "               nan],\n",
       "        [0.       , 0.       , 0.       , ...,       nan,       nan,\n",
       "               nan],\n",
       "        [0.       , 0.       , 0.       , ...,       nan,       nan,\n",
       "               nan]],\n",
       "\n",
       "       [[      nan,       nan,       nan, ...,       nan,       nan,\n",
       "               nan],\n",
       "        [      nan,       nan,       nan, ...,       nan,       nan,\n",
       "               nan],\n",
       "        [      nan,       nan,       nan, ...,       nan,       nan,\n",
       "               nan],\n",
       "        ...,\n",
       "        [5.5566406, 4.883789 , 4.296875 , ...,       nan,       nan,\n",
       "               nan],\n",
       "        [7.708008 , 6.9541016, 6.2646484, ...,       nan,       nan,\n",
       "               nan],\n",
       "        [9.854492 , 8.947266 , 8.227539 , ...,       nan,       nan,\n",
       "               nan]]], dtype=float32)"
      ]
     },
     "execution_count": 14,
     "metadata": {},
     "output_type": "execute_result"
    }
   ],
   "source": [
    "A"
   ]
  },
  {
   "cell_type": "code",
   "execution_count": 61,
   "id": "9d72fb85",
   "metadata": {},
   "outputs": [],
   "source": [
    "C1 = [[0.5, 0.2, 0.3],[1, 0.7, 0.1],[0.2, 0.3, 0.5],[0.4, 0.4, 0.7]]\n",
    "C1 = np.array(C1)\n",
    "prob_matrix_C1 = (C1 > [0.4, 0.4, 0.3])"
   ]
  },
  {
   "cell_type": "code",
   "execution_count": 66,
   "id": "8268705e",
   "metadata": {},
   "outputs": [
    {
     "data": {
      "text/plain": [
       "array([[1, 0, 0],\n",
       "       [1, 1, 0],\n",
       "       [0, 0, 1],\n",
       "       [0, 0, 1]])"
      ]
     },
     "execution_count": 66,
     "metadata": {},
     "output_type": "execute_result"
    }
   ],
   "source": [
    "(C1 > [0.4, 0.4, 0.3]) * 1"
   ]
  },
  {
   "cell_type": "code",
   "execution_count": 50,
   "id": "4c2c0e55",
   "metadata": {},
   "outputs": [],
   "source": [
    "CC = [[[0.5, 0.2, 0.3],[1, 0.7, 0.1],[0.2, 0.3, 0.5],[0.4, 0.4, 0.7]], [[0.5, 0.7, 0.3],[1, 0.7, 0.1],[0.5, 0.3, 0.1],[0.4, 0.8, 0.2]]]\n",
    "CC = np.array(CC)\n",
    "prob_matrix_CC = (CC > [0.4, 0.4, 0.3])"
   ]
  },
  {
   "cell_type": "code",
   "execution_count": 51,
   "id": "17611ff8",
   "metadata": {},
   "outputs": [
    {
     "data": {
      "text/plain": [
       "(2, 4, 3)"
      ]
     },
     "execution_count": 51,
     "metadata": {},
     "output_type": "execute_result"
    }
   ],
   "source": [
    "CC.shape"
   ]
  },
  {
   "cell_type": "code",
   "execution_count": 62,
   "id": "9820e643",
   "metadata": {},
   "outputs": [
    {
     "data": {
      "text/plain": [
       "array([[ True, False, False],\n",
       "       [ True,  True, False],\n",
       "       [False, False,  True],\n",
       "       [False, False,  True]])"
      ]
     },
     "execution_count": 62,
     "metadata": {},
     "output_type": "execute_result"
    }
   ],
   "source": [
    "prob_matrix_C1\n"
   ]
  },
  {
   "cell_type": "code",
   "execution_count": 69,
   "id": "f2ede44e",
   "metadata": {},
   "outputs": [],
   "source": [
    "prob_awap = prob_matrix_C1 * 1"
   ]
  },
  {
   "cell_type": "code",
   "execution_count": 70,
   "id": "ac24f107",
   "metadata": {},
   "outputs": [
    {
     "data": {
      "text/plain": [
       "array([[1, 0, 0],\n",
       "       [1, 1, 0],\n",
       "       [0, 0, 1],\n",
       "       [0, 0, 1]])"
      ]
     },
     "execution_count": 70,
     "metadata": {},
     "output_type": "execute_result"
    }
   ],
   "source": [
    "prob_awap"
   ]
  },
  {
   "cell_type": "code",
   "execution_count": 52,
   "id": "5880fbff",
   "metadata": {},
   "outputs": [
    {
     "data": {
      "text/plain": [
       "array([[[ True, False, False],\n",
       "        [ True,  True, False],\n",
       "        [False, False,  True],\n",
       "        [False, False,  True]],\n",
       "\n",
       "       [[ True,  True, False],\n",
       "        [ True,  True, False],\n",
       "        [ True, False, False],\n",
       "        [False,  True, False]]])"
      ]
     },
     "execution_count": 52,
     "metadata": {},
     "output_type": "execute_result"
    }
   ],
   "source": [
    "prob_matrix_CC "
   ]
  },
  {
   "cell_type": "code",
   "execution_count": 53,
   "id": "cb37f364",
   "metadata": {},
   "outputs": [
    {
     "data": {
      "text/plain": [
       "array([[[1, 0, 0],\n",
       "        [1, 1, 0],\n",
       "        [0, 0, 1],\n",
       "        [0, 0, 1]],\n",
       "\n",
       "       [[1, 1, 0],\n",
       "        [1, 1, 0],\n",
       "        [1, 0, 0],\n",
       "        [0, 1, 0]]])"
      ]
     },
     "execution_count": 53,
     "metadata": {},
     "output_type": "execute_result"
    }
   ],
   "source": [
    "prob_matrix_CC * 1"
   ]
  },
  {
   "cell_type": "code",
   "execution_count": 67,
   "id": "0c13628c",
   "metadata": {},
   "outputs": [],
   "source": [
    "prob_for = np.mean(prob_matrix_CC * 1, axis = 0)"
   ]
  },
  {
   "cell_type": "code",
   "execution_count": 68,
   "id": "bef85726",
   "metadata": {},
   "outputs": [
    {
     "data": {
      "text/plain": [
       "array([[1. , 0.5, 0. ],\n",
       "       [1. , 1. , 0. ],\n",
       "       [0.5, 0. , 0.5],\n",
       "       [0. , 0.5, 0.5]])"
      ]
     },
     "execution_count": 68,
     "metadata": {},
     "output_type": "execute_result"
    }
   ],
   "source": [
    "prob_for"
   ]
  },
  {
   "cell_type": "code",
   "execution_count": 72,
   "id": "9a81b158",
   "metadata": {},
   "outputs": [
    {
     "data": {
      "text/plain": [
       "array([[0.  , 0.25, 0.  ],\n",
       "       [0.  , 0.  , 0.  ],\n",
       "       [0.25, 0.  , 0.25],\n",
       "       [0.  , 0.25, 0.25]])"
      ]
     },
     "execution_count": 72,
     "metadata": {},
     "output_type": "execute_result"
    }
   ],
   "source": [
    "(prob_for - prob_awap) ** 2"
   ]
  },
  {
   "cell_type": "code",
   "execution_count": 73,
   "id": "b1af3c23",
   "metadata": {},
   "outputs": [
    {
     "data": {
      "text/plain": [
       "array([[ 0. ,  0.5,  0. ],\n",
       "       [ 0. ,  0. ,  0. ],\n",
       "       [ 0.5,  0. , -0.5],\n",
       "       [ 0. ,  0.5, -0.5]])"
      ]
     },
     "execution_count": 73,
     "metadata": {},
     "output_type": "execute_result"
    }
   ],
   "source": [
    "prob_for - prob_awap"
   ]
  },
  {
   "cell_type": "code",
   "execution_count": 2,
   "id": "fb5394ab",
   "metadata": {},
   "outputs": [],
   "source": [
    "model_name = 'vfixed0.001crps'\n",
    "model_num = 'model_G_i000005'\n",
    "year = '2009'\n",
    "time = 0\n",
    "model_brier95 = np.load(\n",
    "                \"/scratch/iu60/yl3101/DESRGAN/new_crps/save/Brier95/\" + model_name + \"/\" + year + '/' + model_num + \"/lead_time\" + str(time) + \"_whole.npy\")"
   ]
  },
  {
   "cell_type": "code",
   "execution_count": 6,
   "id": "7831ae6a",
   "metadata": {},
   "outputs": [
    {
     "data": {
      "text/plain": [
       "(413, 267)"
      ]
     },
     "execution_count": 6,
     "metadata": {},
     "output_type": "execute_result"
    }
   ],
   "source": [
    "model_brier95.shape"
   ]
  },
  {
   "cell_type": "code",
   "execution_count": 11,
   "id": "221eba1f",
   "metadata": {},
   "outputs": [],
   "source": [
    "climat = np.load(\"/scratch/iu60/yl3101/DESRGAN/new_crps/save/climatology/prob99_climatology_2009_all_lead_time_windows_1.npy\")"
   ]
  },
  {
   "cell_type": "code",
   "execution_count": 13,
   "id": "f630bc83",
   "metadata": {},
   "outputs": [
    {
     "data": {
      "text/plain": [
       "(575, 413, 267)"
      ]
     },
     "execution_count": 13,
     "metadata": {},
     "output_type": "execute_result"
    }
   ],
   "source": [
    "climat.shape"
   ]
  },
  {
   "cell_type": "code",
   "execution_count": 14,
   "id": "9191908e",
   "metadata": {},
   "outputs": [],
   "source": [
    "climat_mean = np.load(\"/scratch/iu60/yl3101/DESRGAN/new_crps/save/crps_ss/mean_climatology/2009/window1/climat_lead_time_0.npy\")"
   ]
  },
  {
   "cell_type": "code",
   "execution_count": 15,
   "id": "2d182977",
   "metadata": {},
   "outputs": [
    {
     "data": {
      "text/plain": [
       "array(nan)"
      ]
     },
     "execution_count": 15,
     "metadata": {},
     "output_type": "execute_result"
    }
   ],
   "source": [
    "climat_mean"
   ]
  },
  {
   "cell_type": "code",
   "execution_count": 16,
   "id": "80f31df0",
   "metadata": {},
   "outputs": [
    {
     "data": {
      "text/plain": [
       "110271"
      ]
     },
     "execution_count": 16,
     "metadata": {},
     "output_type": "execute_result"
    }
   ],
   "source": [
    "413 * 267"
   ]
  },
  {
   "cell_type": "code",
   "execution_count": 4,
   "id": "61cfba6b",
   "metadata": {},
   "outputs": [],
   "source": [
    "temp = Dataset(\"/scratch/iu60/yl3101/DESRGAN/vfixed0.001crps/2018/model_G_i000003/e09/2018-12-31_e09.nc\")"
   ]
  },
  {
   "cell_type": "code",
   "execution_count": 5,
   "id": "b952cbc7",
   "metadata": {},
   "outputs": [
    {
     "data": {
      "text/plain": [
       "<class 'netCDF4._netCDF4.Dataset'>\n",
       "root group (NETCDF4 data model, file format HDF5):\n",
       "    dimensions(sizes): time(42), lat(413), lon(267)\n",
       "    variables(dimensions): int64 time(time), float32 lat(lat), float32 lon(lon), float32 pr(time, lat, lon)\n",
       "    groups: "
      ]
     },
     "execution_count": 5,
     "metadata": {},
     "output_type": "execute_result"
    }
   ],
   "source": [
    "temp"
   ]
  },
  {
   "cell_type": "code",
   "execution_count": 11,
   "id": "d7fd70b5",
   "metadata": {},
   "outputs": [],
   "source": [
    "original_temp = Dataset(\"/scratch/iu60/yl3101/Processed_data/e09/da_pr_20091231_e09.nc\")"
   ]
  },
  {
   "cell_type": "code",
   "execution_count": 12,
   "id": "9527f8db",
   "metadata": {},
   "outputs": [
    {
     "data": {
      "text/plain": [
       "<class 'netCDF4._netCDF4.Dataset'>\n",
       "root group (NETCDF4 data model, file format HDF5):\n",
       "    dimensions(sizes): time(42), lat(57), lon(24)\n",
       "    variables(dimensions): int64 time(time), float32 lat(lat), float32 lon(lon), float32 pr(time, lat, lon)\n",
       "    groups: "
      ]
     },
     "execution_count": 12,
     "metadata": {},
     "output_type": "execute_result"
    }
   ],
   "source": [
    "original_temp"
   ]
  },
  {
   "cell_type": "code",
   "execution_count": 13,
   "id": "b2240027",
   "metadata": {},
   "outputs": [
    {
     "data": {
      "text/plain": [
       "masked_array(\n",
       "  data=[[--, --, --, ..., --, --, --],\n",
       "        [--, --, --, ..., --, --, --],\n",
       "        [--, --, 3.279569500591606e-05, ..., --, --, --],\n",
       "        ...,\n",
       "        [4.2433402995811775e-05, 2.820269037329126e-05,\n",
       "         1.4606453078158665e-05, ..., --, --, --],\n",
       "        [2.3814363885321654e-05, 1.4957363418943714e-05,\n",
       "         1.7172571460832842e-05, ..., --, --, --],\n",
       "        [2.0247924112481996e-05, 1.2739752492052503e-05,\n",
       "         2.616869824123569e-05, ..., --, --, --]],\n",
       "  mask=[[ True,  True,  True, ...,  True,  True,  True],\n",
       "        [ True,  True,  True, ...,  True,  True,  True],\n",
       "        [ True,  True, False, ...,  True,  True,  True],\n",
       "        ...,\n",
       "        [False, False, False, ...,  True,  True,  True],\n",
       "        [False, False, False, ...,  True,  True,  True],\n",
       "        [False, False, False, ...,  True,  True,  True]],\n",
       "  fill_value=nan,\n",
       "  dtype=float32)"
      ]
     },
     "execution_count": 13,
     "metadata": {},
     "output_type": "execute_result"
    }
   ],
   "source": [
    "original_temp['pr'][0]"
   ]
  },
  {
   "cell_type": "code",
   "execution_count": 14,
   "id": "3399b27a",
   "metadata": {},
   "outputs": [
    {
     "data": {
      "text/plain": [
       "masked_array(\n",
       "  data=[[--, --, --, ..., --, --, --],\n",
       "        [--, --, --, ..., --, --, --],\n",
       "        [--, --, 1.8111235249307356e-06, ..., --, --, --],\n",
       "        ...,\n",
       "        [0.00015104233170859516, 0.00021064220345579088,\n",
       "         0.00025501110940240324, ..., --, --, --],\n",
       "        [0.00020082919218111783, 0.00024715959443710744,\n",
       "         0.0002879980602301657, ..., --, --, --],\n",
       "        [0.00024956720881164074, 0.00025643533444963396,\n",
       "         0.0002767397672869265, ..., --, --, --]],\n",
       "  mask=[[ True,  True,  True, ...,  True,  True,  True],\n",
       "        [ True,  True,  True, ...,  True,  True,  True],\n",
       "        [ True,  True, False, ...,  True,  True,  True],\n",
       "        ...,\n",
       "        [False, False, False, ...,  True,  True,  True],\n",
       "        [False, False, False, ...,  True,  True,  True],\n",
       "        [False, False, False, ...,  True,  True,  True]],\n",
       "  fill_value=nan,\n",
       "  dtype=float32)"
      ]
     },
     "execution_count": 14,
     "metadata": {},
     "output_type": "execute_result"
    }
   ],
   "source": [
    "original_temp['pr'][1]"
   ]
  },
  {
   "cell_type": "code",
   "execution_count": 17,
   "id": "6a137ac4",
   "metadata": {},
   "outputs": [
    {
     "data": {
      "text/plain": [
       "<class 'netCDF4._netCDF4.Dataset'>\n",
       "root group (NETCDF4 data model, file format HDF5):\n",
       "    model_id: ACCESS-S2\n",
       "    distribution_statement: The data are subject to the distribution terms of use outlined in the Bureau of Meteorology's Copyright Notice http://www.bom.gov.au/other/copyright.shtml\n",
       "    creator_name: Bureau of Meteorology\n",
       "    copyright: (C) Copyright Commonwealth of Australia (2017), Bureau of Meteorology (ABN 92637 533532), see http://www.bom.gov.au/other/copyright.shtml for terms and conditions of reuse\n",
       "    acknowledgement: Australian Bureau of Meteorology, Commonwealth of Australia\n",
       "    title: ACCESS-S2\n",
       "    id: access-s2\n",
       "    author: Bureau of Meteorology\n",
       "    Conventions: CF-1.6\n",
       "    source: ACCESS-S2\n",
       "    publisher_url: http://bom.gov.au\n",
       "    keywords: multi-week, seasonal\n",
       "    creator_url: http://bom.gov.au\n",
       "    institute_id: ABOM\n",
       "    publisher_name: Bureau of Meteorology\n",
       "    institution: Australian Bureau of Meteorology\n",
       "    naming_authority: au.gov.bom\n",
       "    disclaimer: The data are subject to the Bureau of Meteorology's disclaimer. http://www.bom.gov.au/other/disclaimer.shtml\n",
       "    date_created: 2021-02-07:07:25:37\n",
       "    input_file_format: UM ancillary\n",
       "    input_uri: file:///g/sc/home_trial/coupled_trial/cylc-run/s2hs_19811231/work/19811231T0000Z//model_m9_s01/cplhca.pc19811231\n",
       "    input_word_length: 8\n",
       "    history: Sun Feb  7 07:27:24 2021: ncks -O -v pr pc19811231_tot.nc /g/sc/home_trial/coupled_trial/cylc-run/s2hs_19811231/share/data/19811231T0000Z/e09//da_pr_19811231_e09.nc\n",
       "PP/UM file read by cdunif. Converted to netCDF by coupled_trial on 2021-02-07.\n",
       "    input_byte_ordering: big_endian\n",
       "    NCO: \"4.5.3\"\n",
       "    dimensions(sizes): lat(324), lon(432), time(42)\n",
       "    variables(dimensions): float32 lat(lat), float32 lon(lon), float32 pr(time, lat, lon), float32 time(time)\n",
       "    groups: "
      ]
     },
     "execution_count": 17,
     "metadata": {},
     "output_type": "execute_result"
    }
   ],
   "source": [
    "original_access_data = Dataset(\"/g/data/ux62/access-s2/hindcast/raw_model/atmos/pr/daily/e09/da_pr_19811231_e09.nc\")\n",
    "original_access_data"
   ]
  },
  {
   "cell_type": "code",
   "execution_count": null,
   "id": "4a55ca2e",
   "metadata": {},
   "outputs": [],
   "source": []
  }
 ],
 "metadata": {
  "kernelspec": {
   "display_name": "Python 3",
   "language": "python",
   "name": "python3"
  },
  "language_info": {
   "codemirror_mode": {
    "name": "ipython",
    "version": 3
   },
   "file_extension": ".py",
   "mimetype": "text/x-python",
   "name": "python",
   "nbconvert_exporter": "python",
   "pygments_lexer": "ipython3",
   "version": "3.9.2"
  }
 },
 "nbformat": 4,
 "nbformat_minor": 5
}
